{
 "cells": [
  {
   "cell_type": "code",
   "execution_count": null,
   "id": "cdfb085a-7a83-489b-97d7-d4bb9a692cba",
   "metadata": {},
   "outputs": [],
   "source": [
    "import matplotlib.pyplot as plt"
   ]
  },
  {
   "cell_type": "code",
   "execution_count": null,
   "id": "77912d4f-d42d-49e5-8d39-21e68cba1410",
   "metadata": {},
   "outputs": [],
   "source": [
    "a=(1,2,3,4,5)\n",
    "b=(20,30,40,50,60)"
   ]
  },
  {
   "cell_type": "code",
   "execution_count": null,
   "id": "0109a3b2-58b3-45af-887b-593e5170680d",
   "metadata": {},
   "outputs": [],
   "source": [
    "plt.plot(a,b)\n",
    "plt.show()"
   ]
  },
  {
   "cell_type": "code",
   "execution_count": null,
   "id": "c9581633-c1af-4f77-aeeb-946834285705",
   "metadata": {},
   "outputs": [],
   "source": [
    "import pandas as pd\n",
    "import numpy as np\n",
    "from sklearn.linear_model import LinearRegression"
   ]
  },
  {
   "cell_type": "code",
   "execution_count": null,
   "id": "a06c67e0-9265-44b7-b1f2-f4f69f69a82c",
   "metadata": {},
   "outputs": [],
   "source": [
    "dataset=pd.read_csv('C:/')"
   ]
  },
  {
   "cell_type": "code",
   "execution_count": null,
   "id": "0a961c35-c655-4b61-bef1-b47fe64ada99",
   "metadata": {},
   "outputs": [],
   "source": [
    "x=dataset.iloc[:,:-1].values\n",
    "y=dataset.iloc[:,1].values\n",
    "linear=LinearRegression()"
   ]
  },
  {
   "cell_type": "code",
   "execution_count": null,
   "id": "404a3238-998b-4d41-923c-f39aaf7e4adc",
   "metadata": {},
   "outputs": [],
   "source": [
    "linear.fit(x,y)\n",
    "y_pred=linear.predict(x)"
   ]
  },
  {
   "cell_type": "code",
   "execution_count": null,
   "id": "2d94346c-57f1-41c0-83bd-169cfb262710",
   "metadata": {},
   "outputs": [],
   "source": [
    "plt.scatter(x,y)"
   ]
  },
  {
   "cell_type": "code",
   "execution_count": null,
   "id": "f8dda961-0480-46ef-b4a8-295a40ce809a",
   "metadata": {},
   "outputs": [],
   "source": [
    "plt.scatter(x,y)\n",
    "plt.plot(x,y_pred,color='red')\n",
    "plt.show()"
   ]
  },
  {
   "cell_type": "code",
   "execution_count": null,
   "id": "bd0d8398-56f8-4b4e-a028-2633e0d2b720",
   "metadata": {},
   "outputs": [],
   "source": [
    "y_pred"
   ]
  },
  {
   "cell_type": "code",
   "execution_count": null,
   "id": "d2d1aae0-077b-4b52-ab87-d89021a0c96d",
   "metadata": {},
   "outputs": [],
   "source": [
    "y"
   ]
  }
 ],
 "metadata": {
  "kernelspec": {
   "display_name": "Python [conda env:base] *",
   "language": "python",
   "name": "conda-base-py"
  },
  "language_info": {
   "codemirror_mode": {
    "name": "ipython",
    "version": 3
   },
   "file_extension": ".py",
   "mimetype": "text/x-python",
   "name": "python",
   "nbconvert_exporter": "python",
   "pygments_lexer": "ipython3",
   "version": "3.12.7"
  }
 },
 "nbformat": 4,
 "nbformat_minor": 5
}
