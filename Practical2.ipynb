{
 "cells": [
  {
   "cell_type": "code",
   "execution_count": null,
   "id": "f44c1a1b-a2b4-4743-88e2-475e348047d0",
   "metadata": {},
   "outputs": [],
   "source": [
    "import numpy as np"
   ]
  },
  {
   "cell_type": "code",
   "execution_count": null,
   "id": "3276fdcf-9eda-4b8e-b449-c4513b05543a",
   "metadata": {},
   "outputs": [],
   "source": [
    "arr=np.array([0,1,2,3,4,5,6,7,8,9])"
   ]
  },
  {
   "cell_type": "code",
   "execution_count": null,
   "id": "3c93fe31-605c-418d-a9a9-131ab79f9464",
   "metadata": {},
   "outputs": [],
   "source": [
    "reShape=arr.reshape(2,5)"
   ]
  },
  {
   "cell_type": "code",
   "execution_count": null,
   "id": "fcafa51c-5fad-4f4c-87fa-dfffc2ac828f",
   "metadata": {},
   "outputs": [],
   "source": [
    "print(\"Reshape array :\\n\",reShape)"
   ]
  },
  {
   "cell_type": "code",
   "execution_count": null,
   "id": "9cd3d2c4-0cff-449e-ac3f-089e7d910d8d",
   "metadata": {},
   "outputs": [],
   "source": [
    "import pandas as pd\n",
    "data={'Name':[\"Saurabh\",\"Sandeep\",\"Sarthak\",\"Swayam\",\"Yuraj\",\"Vaishavi\"],\n",
    "      'Age':[20,21,20,21,21,19],\n",
    "      'Gender':[\"Male\",\"Male\",\"Male\",\"Male\",\"Male\",\"Female\"],\n",
    "      'Marks':[86,80,78,79,81,75]}"
   ]
  },
  {
   "cell_type": "code",
   "execution_count": null,
   "id": "4e7d342b-8171-497c-928e-27484d3a3360",
   "metadata": {},
   "outputs": [],
   "source": [
    "df=pd.DataFrame(data)\n",
    "df"
   ]
  },
  {
   "cell_type": "code",
   "execution_count": null,
   "id": "0043ca0b-7e14-443e-b1cf-c4b3950423b8",
   "metadata": {},
   "outputs": [],
   "source": [
    "df.filter(['Name'])"
   ]
  },
  {
   "cell_type": "code",
   "execution_count": null,
   "id": "cc1dbed8-a8c8-49b8-b91b-ddc85602e16d",
   "metadata": {},
   "outputs": [],
   "source": [
    "df[\"Gender\"]=df[\"Gender\"].map({\"Male\":0,\"Female\":1,}).astype(float)"
   ]
  },
  {
   "cell_type": "code",
   "execution_count": null,
   "id": "589f7ad8-74e3-4655-916f-b864799b3bdd",
   "metadata": {},
   "outputs": [],
   "source": [
    "df[df['Age']==20]"
   ]
  },
  {
   "cell_type": "code",
   "execution_count": null,
   "id": "605b3474-4a56-4ce6-bdd9-02a39806161e",
   "metadata": {},
   "outputs": [],
   "source": [
    "status=({\n",
    "    'ID':[101,102,103,104,105,106,107],\n",
    "    'Balance':['NIL',2500,3000,2200,6700,7600,5000]\n",
    "})"
   ]
  },
  {
   "cell_type": "code",
   "execution_count": null,
   "id": "b15be303-c536-4654-9008-7a147b3af9db",
   "metadata": {},
   "outputs": [],
   "source": [
    "sd=pd.DataFrame(status)\n",
    "sd"
   ]
  },
  {
   "cell_type": "code",
   "execution_count": null,
   "id": "043d1bd1-cec3-4148-b0b7-946050afb21d",
   "metadata": {},
   "outputs": [],
   "source": [
    "fb=pd.concat([df,sd])\n",
    "display(fb)\n"
   ]
  },
  {
   "cell_type": "code",
   "execution_count": null,
   "id": "1d0e67fc-2a35-48d8-82d0-c74d6c9cf781",
   "metadata": {},
   "outputs": [],
   "source": [
    "df['ID'] = range(101, 101 + len(df))"
   ]
  },
  {
   "cell_type": "code",
   "execution_count": null,
   "id": "1c3fab0c-c5a7-49a2-9f80-bbda08d44b38",
   "metadata": {},
   "outputs": [],
   "source": [
    "result = df.merge(sd, how='right', on='ID')\n",
    "\n",
    "print(result)"
   ]
  },
  {
   "cell_type": "code",
   "execution_count": null,
   "id": "337702c5-52a5-4b2a-bbd1-0088f69cbde2",
   "metadata": {},
   "outputs": [],
   "source": [
    "numeric_columns = df.select_dtypes(include=np.number).columns\n",
    "filled_df = df.fillna(df[numeric_columns].mean())\n",
    "\n",
    "print(\"\\nDataFrame with Missing Values Filled:\")\n",
    "print(filled_df)"
   ]
  },
  {
   "cell_type": "code",
   "execution_count": null,
   "id": "0c80da78-19d5-4c88-af46-d13687ead6ce",
   "metadata": {},
   "outputs": [],
   "source": [
    "import pandas as pd\n",
    "from sklearn.preprocessing import MinMaxScaler"
   ]
  },
  {
   "cell_type": "code",
   "execution_count": null,
   "id": "f4060f41-3aed-4050-a85d-30812710785c",
   "metadata": {},
   "outputs": [],
   "source": [
    "numeric_features = df.select_dtypes(include=['number'])\n",
    "scaler = MinMaxScaler()\n",
    "scaled_data = scaler.fit_transform(numeric_features)\n",
    "scaled_df = pd.DataFrame(scaled_data, columns=numeric_features.columns, index=df.index)\n"
   ]
  },
  {
   "cell_type": "code",
   "execution_count": null,
   "id": "cb95c389-e06b-4aab-95c1-4d7c09e093c9",
   "metadata": {},
   "outputs": [],
   "source": [
    "normalized_df = pd.concat([df.drop(columns=numeric_features.columns), scaled_df], axis=1)\n",
    "\n",
    "print(\"\\nNormalized DataFrame:\")\n",
    "print(normalized_df)"
   ]
  },
  {
   "cell_type": "code",
   "execution_count": null,
   "id": "01e34894-58bf-4d55-a1cc-165d9570f12a",
   "metadata": {},
   "outputs": [],
   "source": []
  }
 ],
 "metadata": {
  "kernelspec": {
   "display_name": "Python [conda env:base] *",
   "language": "python",
   "name": "conda-base-py"
  },
  "language_info": {
   "codemirror_mode": {
    "name": "ipython",
    "version": 3
   },
   "file_extension": ".py",
   "mimetype": "text/x-python",
   "name": "python",
   "nbconvert_exporter": "python",
   "pygments_lexer": "ipython3",
   "version": "3.12.7"
  }
 },
 "nbformat": 4,
 "nbformat_minor": 5
}
