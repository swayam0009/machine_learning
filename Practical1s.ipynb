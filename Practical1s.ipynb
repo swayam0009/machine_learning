{
 "cells": [
  {
   "cell_type": "code",
   "execution_count": null,
   "id": "7fb4bfd3-dc6d-4f3e-aeff-e2a3ca148244",
   "metadata": {},
   "outputs": [],
   "source": [
    "import numpy as np\n",
    "import scipy.linalg\n",
    "import math"
   ]
  },
  {
   "cell_type": "code",
   "execution_count": null,
   "id": "bffef80b-b7f9-4d7b-9acc-e7be229e5f5d",
   "metadata": {},
   "outputs": [],
   "source": [
    "arr = np.array([[10, 20, 30], [40, 50, 60], [70, 80, 90]])"
   ]
  },
  {
   "cell_type": "code",
   "execution_count": null,
   "id": "069fb928-1a42-416a-81a9-371335feb3a1",
   "metadata": {},
   "outputs": [],
   "source": [
    "# a) Using Math functions\n",
    "numbers = [3.5, 7.2, 9.8, -4.3]\n",
    "floor_vals = [math.floor(num) for num in numbers]\n",
    "ceil_vals = [math.ceil(num) for num in numbers]\n",
    "sqrt_vals = [math.sqrt(abs(num)) for num in numbers]\n"
   ]
  },
  {
   "cell_type": "code",
   "execution_count": null,
   "id": "85cffaa2-6645-4bcc-877f-bb2d42e41e8c",
   "metadata": {},
   "outputs": [],
   "source": [
    "# b) NumPy array attributes\n",
    "num_dimensions = arr.ndim\n",
    "shape_of_array = arr.shape\n",
    "size_of_array = arr.size"
   ]
  },
  {
   "cell_type": "code",
   "execution_count": null,
   "id": "88356bf9-97ad-4b50-af33-1f88f1127d0b",
   "metadata": {},
   "outputs": [],
   "source": [
    "# c) NumPy methods\n",
    "sum_val = np.sum(arr)\n",
    "mean_val = np.mean(arr)\n",
    "sorted_arr = np.sort(arr, axis=None)\n",
    "sin_values = np.sin(arr)"
   ]
  },
  {
   "cell_type": "code",
   "execution_count": null,
   "id": "b9f86b2f-6a99-4707-9d61-e75f90664a9f",
   "metadata": {},
   "outputs": [],
   "source": [
    "# d) Reshaping array\n",
    "arr_3D = arr.reshape((3, 1, 3))  # Reshaped to 3D format\n",
    "arr_1D = arr.reshape(9)  # Flattened to 1D format\n"
   ]
  },
  {
   "cell_type": "code",
   "execution_count": null,
   "id": "67f3f4e9-abe0-4ed8-903c-e3cc93a38e58",
   "metadata": {},
   "outputs": [],
   "source": [
    "# e) Generating matrices using NumPy\n",
    "identity_matrix = np.identity(3)\n",
    "random_matrix = np.random.rand(3, 3)\n"
   ]
  },
  {
   "cell_type": "code",
   "execution_count": null,
   "id": "91bc898c-4bea-496d-b8fc-8f8404d05fac",
   "metadata": {},
   "outputs": [],
   "source": [
    "# f) Finding determinant using SciPy\n",
    "determinant = scipy.linalg.det(arr)\n"
   ]
  },
  {
   "cell_type": "code",
   "execution_count": null,
   "id": "531d35c2-bc5a-4b3d-87d1-a1159c3638c1",
   "metadata": {},
   "outputs": [],
   "source": [
    "# g) Finding Eigenvalues and Eigenvectors\n",
    "eigenvalues, eigenvectors = scipy.linalg.eig(arr)\n"
   ]
  },
  {
   "cell_type": "code",
   "execution_count": null,
   "id": "72f56bff-8b63-40ad-9009-30d6b09fcb73",
   "metadata": {},
   "outputs": [],
   "source": []
  },
  {
   "cell_type": "code",
   "execution_count": null,
   "id": "336f347b-839e-46bc-90cb-803dbf5686d0",
   "metadata": {},
   "outputs": [],
   "source": []
  },
  {
   "cell_type": "code",
   "execution_count": null,
   "id": "713fc3a7-744e-437e-8693-00d42af32743",
   "metadata": {},
   "outputs": [],
   "source": []
  },
  {
   "cell_type": "code",
   "execution_count": null,
   "id": "ea891e91-f835-41d0-bd26-f224344d492b",
   "metadata": {},
   "outputs": [],
   "source": []
  },
  {
   "cell_type": "code",
   "execution_count": null,
   "id": "74e679f0-3da9-4372-a17c-aaec2f099689",
   "metadata": {},
   "outputs": [],
   "source": []
  }
 ],
 "metadata": {
  "kernelspec": {
   "display_name": "Python [conda env:base] *",
   "language": "python",
   "name": "conda-base-py"
  },
  "language_info": {
   "codemirror_mode": {
    "name": "ipython",
    "version": 3
   },
   "file_extension": ".py",
   "mimetype": "text/x-python",
   "name": "python",
   "nbconvert_exporter": "python",
   "pygments_lexer": "ipython3",
   "version": "3.12.7"
  }
 },
 "nbformat": 4,
 "nbformat_minor": 5
}
