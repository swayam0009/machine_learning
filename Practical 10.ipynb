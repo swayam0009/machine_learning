{
 "cells": [
  {
   "cell_type": "code",
   "execution_count": 27,
   "id": "8e9f1af1-e45b-4e29-997d-73c962b864e7",
   "metadata": {},
   "outputs": [
    {
     "name": "stdout",
     "output_type": "stream",
     "text": [
      "CSV file 'Statements_data.csv' has been created.\n"
     ]
    }
   ],
   "source": [
    "import pandas as pd\n",
    "\n",
    "# Data provided\n",
    "data = [\n",
    "    (\"This is very good place\", \"pos\"),\n",
    "    (\"I like this biryani\", \"pos\"),\n",
    "    (\"I feel very happy\", \"pos\"),\n",
    "    (\"This is my best work\", \"pos\"),\n",
    "    (\"I do not like this restaurant\", \"neg\"),\n",
    "    (\"I am tired of this stuff\", \"neg\"),\n",
    "    (\"I can't deal with this\", \"neg\"),\n",
    "    (\"What an idea it is\", \"pos\"),\n",
    "    (\"My place is horrible\", \"neg\"),\n",
    "    (\"This is an awesome place\", \"pos\"),\n",
    "    (\"I do not like the taste of this juice\", \"neg\"),\n",
    "    (\"I love to sing\", \"pos\"),\n",
    "    (\"I am sick and tired\", \"neg\"),\n",
    "    (\"I love to dance\", \"pos\"),\n",
    "    (\"What a great holiday\", \"pos\"),\n",
    "    (\"That is a bad locality to stay\", \"neg\"),\n",
    "    (\"We will have good fun tomorrow\", \"pos\"),\n",
    "    (\"I hate this food\", \"neg\")\n",
    "]\n",
    "\n",
    "# Convert to DataFrame\n",
    "df = pd.DataFrame(data, columns=['Message', 'Label'])\n",
    "\n",
    "# Save to CSV\n",
    "df.to_csv('Statements_data.csv', index=False)\n",
    "print(\"CSV file 'Statements_data.csv' has been created.\")\n"
   ]
  },
  {
   "cell_type": "code",
   "execution_count": 29,
   "id": "df07e49b-29b7-4a77-a099-08c77b69f305",
   "metadata": {},
   "outputs": [],
   "source": [
    "import pandas as pd\n",
    "from sklearn.model_selection import train_test_split\n",
    "from sklearn.feature_extraction.text import CountVectorizer\n",
    "from sklearn.neural_network import MLPClassifier\n",
    "from sklearn.metrics import accuracy_score, confusion_matrix, precision_score, recall_score\n",
    "\n"
   ]
  },
  {
   "cell_type": "code",
   "execution_count": 62,
   "id": "a028186c-8a96-43b0-a858-4e168ae21aca",
   "metadata": {},
   "outputs": [
    {
     "name": "stdout",
     "output_type": "stream",
     "text": [
      "Missing values in dataset:\n",
      "Message    0\n",
      "Label      0\n",
      "dtype: int64\n",
      "\n",
      "Missing values in 'labelnum' column:\n",
      "1\n",
      "\n",
      "Data after removing NaN values from 'labelnum':\n",
      "                         Message Label  labelnum\n",
      "1        This is very good place   pos       1.0\n",
      "2            I like this biryani   pos       1.0\n",
      "3              I feel very happy   pos       1.0\n",
      "4           This is my best work   pos       1.0\n",
      "5  I do not like this restaurant   neg       0.0\n",
      "******** Accuracy Metrics *********\n",
      "Accuracy :  0.6\n",
      "Recall :  1.0\n",
      "Precision :  0.5\n",
      "Confusion Matrix : \n",
      " [[1 2]\n",
      " [0 2]]\n",
      "----------\n"
     ]
    },
    {
     "name": "stdin",
     "output_type": "stream",
     "text": [
      "Enter any statement to predict:  1\n"
     ]
    },
    {
     "name": "stdout",
     "output_type": "stream",
     "text": [
      "Statement: '1' is Positive\n"
     ]
    }
   ],
   "source": [
    "# Load the data\n",
    "msglbl_data = pd.read_csv('Statements_data.csv', names=['Message', 'Label'])\n",
    "\n",
    "# Check for missing values in the dataset\n",
    "print(\"Missing values in dataset:\")\n",
    "print(msglbl_data.isna().sum())\n",
    "\n",
    "# Handle missing values by removing rows where 'Label' is NaN\n",
    "msglbl_data.dropna(subset=['Label'], inplace=True)\n",
    "\n",
    "# Map the labels to numeric values (1 for 'pos' and 0 for 'neg')\n",
    "msglbl_data['labelnum'] = msglbl_data.Label.map({'pos': 1, 'neg': 0})\n",
    "\n",
    "# Check for missing values in the 'labelnum' column\n",
    "print(\"\\nMissing values in 'labelnum' column:\")\n",
    "print(msglbl_data['labelnum'].isna().sum())\n",
    "\n",
    "# Remove rows where 'labelnum' is NaN (if there are any)\n",
    "msglbl_data.dropna(subset=['labelnum'], inplace=True)\n",
    "\n",
    "# Verify that no NaN values exist in the 'labelnum' column after cleaning\n",
    "print(\"\\nData after removing NaN values from 'labelnum':\")\n",
    "print(msglbl_data.head())\n",
    "\n",
    "# Place the data in X and Y Vectors\n",
    "X = msglbl_data[\"Message\"]\n",
    "Y = msglbl_data['labelnum']\n",
    "\n",
    "# Split the data into train and test sets\n",
    "Xtrain, Xtest, Ytrain, Ytest = train_test_split(X, Y)\n",
    "\n",
    "# Convert the text data into numerical vectors using CountVectorizer\n",
    "count_vect = CountVectorizer()\n",
    "Xtrain_dims = count_vect.fit_transform(Xtrain)\n",
    "Xtest_dims = count_vect.transform(Xtest)\n",
    "\n",
    "# Define the MLP Classifier\n",
    "clf = MLPClassifier(solver='lbfgs', alpha=1e-5, hidden_layer_sizes=(5, 2), random_state=1)\n",
    "\n",
    "# Train the model\n",
    "clf.fit(Xtrain_dims, Ytrain)\n",
    "\n",
    "# Predict on the test data\n",
    "prediction = clf.predict(Xtest_dims)\n",
    "\n",
    "# Print accuracy metrics\n",
    "print('******** Accuracy Metrics *********')\n",
    "print('Accuracy : ', accuracy_score(Ytest, prediction)) \n",
    "print('Recall : ', recall_score(Ytest, prediction)) \n",
    "print('Precision : ', precision_score(Ytest, prediction))\n",
    "print('Confusion Matrix : \\n', confusion_matrix(Ytest, prediction))\n",
    "print(10 * \"-\")\n",
    "\n",
    "# Now predicting for a user-provided statement:\n",
    "test_stmt = [input(\"Enter any statement to predict: \")]\n",
    "test_dims = count_vect.transform(test_stmt)  # Transform user input using the same vectorizer\n",
    "pred = clf.predict(test_dims)\n",
    "\n",
    "# Output prediction result\n",
    "for stmt, lbl in zip(test_stmt, pred):\n",
    "    if lbl == 1:\n",
    "        print(f\"Statement: '{stmt}' is Positive\")\n",
    "    else:\n",
    "        print(f\"Statement: '{stmt}' is Negative\")\n"
   ]
  },
  {
   "cell_type": "code",
   "execution_count": null,
   "id": "68038448-5a5d-4338-8bbf-570b64621b00",
   "metadata": {},
   "outputs": [],
   "source": []
  }
 ],
 "metadata": {
  "kernelspec": {
   "display_name": "Python [conda env:base] *",
   "language": "python",
   "name": "conda-base-py"
  },
  "language_info": {
   "codemirror_mode": {
    "name": "ipython",
    "version": 3
   },
   "file_extension": ".py",
   "mimetype": "text/x-python",
   "name": "python",
   "nbconvert_exporter": "python",
   "pygments_lexer": "ipython3",
   "version": "3.12.7"
  }
 },
 "nbformat": 4,
 "nbformat_minor": 5
}
